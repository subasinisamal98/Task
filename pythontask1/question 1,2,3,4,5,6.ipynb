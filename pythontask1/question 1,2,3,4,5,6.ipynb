{
 "cells": [
  {
   "cell_type": "code",
   "execution_count": null,
   "id": "1a1f318b",
   "metadata": {},
   "outputs": [],
   "source": [
    "## question 1\n",
    "\n",
    "import pandas as pd\n",
    "\n",
    "def generate_car_matrix(dataframe):\n",
    "    \n",
    "    pivot_table = dataframe.pivot(index='id_1', columns='id_2', values='car')\n",
    "    pivot_table = pivot_table.fillna(0)\n",
    "    \n",
    "    for col in pivot_table.columns:\n",
    "        pivot_table.at[col, col] = 0\n",
    "    \n",
    "    return pivot_table\n",
    "\n",
    "dataset_1 = pd.read_csv('dataset-1.csv')\n",
    "\n",
    "result_matrix = generate_car_matrix(dataset_1)\n",
    "print(result_matrix)"
   ]
  },
  {
   "cell_type": "code",
   "execution_count": null,
   "id": "015329ce",
   "metadata": {},
   "outputs": [],
   "source": [
    "## question 2\n",
    "\n",
    "import pandas as pd\n",
    "\n",
    "def get_type_count(dataframe):\n",
    "    \n",
    "    dataframe['car_type'] = pd.cut(dataframe['car'],\n",
    "                                   bins=[float('-inf'), 15, 25, float('inf')],\n",
    "                                   labels=['low', 'medium', 'high'],\n",
    "                                   right=False)\n",
    "    \n",
    "    type_counts = dataframe['car_type'].value_counts().to_dict()\n",
    "    \n",
    "    sorted_type_counts = dict(sorted(type_counts.items()))\n",
    "    \n",
    "    return sorted_type_counts\n",
    "\n",
    "dataset_1 = pd.read_csv('dataset-1.csv')\n",
    "\n",
    "result_dict = get_type_count(dataset_1)\n",
    "print(result_dict)\n"
   ]
  },
  {
   "cell_type": "code",
   "execution_count": null,
   "id": "a3f2e77e",
   "metadata": {},
   "outputs": [],
   "source": [
    "## question 3\n",
    "\n",
    "import pandas as pd\n",
    "\n",
    "def get_bus_indexes(dataframe):\n",
    "    mean_bus = dataframe['bus'].mean()\n",
    "    \n",
    "    bus_indexes = dataframe[dataframe['bus'] > 2 * mean_bus].index.tolist()\n",
    "    \n",
    "    bus_indexes.sort()\n",
    "    \n",
    "    return bus_indexes\n",
    "\n",
    "dataset_1 = pd.read_csv('dataset-1.csv')\n",
    "\n",
    "result_indices = get_bus_indexes(dataset_1)\n",
    "print(result_indices)"
   ]
  },
  {
   "cell_type": "code",
   "execution_count": null,
   "id": "1cdfbe3d",
   "metadata": {},
   "outputs": [],
   "source": [
    "## question 4\n",
    "\n",
    "import pandas as pd\n",
    "\n",
    "def filter_routes(dataframe):\n",
    "    route_means = dataframe.groupby('route')['truck'].mean()\n",
    "    \n",
    "    filtered_routes = route_means[route_means > 7].index.tolist()\n",
    "    \n",
    "    filtered_routes.sort()\n",
    "    \n",
    "    return filtered_routes\n",
    "\n",
    "dataset_1 = pd.read_csv('dataset-1.csv'\n",
    "filtered_route_list = filter_routes(dataset_1)\n",
    "print(filtered_route_list)\n"
   ]
  },
  {
   "cell_type": "code",
   "execution_count": null,
   "id": "d9cdef51",
   "metadata": {},
   "outputs": [],
   "source": [
    "## question 5\n",
    "\n",
    "def multiply_matrix(input_df):\n",
    "    modified_df = input_df.copy()\n",
    "    for col in modified_df.columns:\n",
    "        for idx in modified_df.index:\n",
    "            value = modified_df.at[idx, col]\n",
    "            if value > 20:\n",
    "                modified_df.at[idx, col] = round(value * 0.75, 1)\n",
    "            else:\n",
    "                modified_df.at[idx, col] = round(value * 1.25, 1)\n",
    "    \n",
    "    return modified_df\n",
    "\n",
    "modified_result = multiply_matrix(result_matrix)\n",
    "print(modified_result)\n"
   ]
  },
  {
   "cell_type": "code",
   "execution_count": null,
   "id": "21068f9a",
   "metadata": {},
   "outputs": [],
   "source": [
    "## question 6\n",
    "\n",
    "import pandas as pd\n",
    "\n",
    "def check_timestamp_completeness(dataframe):\n",
    "    \n",
    "    dataframe['start_timestamp'] = pd.to_datetime(dataframe['startDay'] + ' ' + dataframe['startTime'])\n",
    "    dataframe['end_timestamp'] = pd.to_datetime(dataframe['endDay'] + ' ' + dataframe['endTime'])\n",
    "    dataframe['duration'] = dataframe['end_timestamp'] - dataframe['start_timestamp']\n",
    "\n",
    "    completeness_check = dataframe.groupby(['id', 'id_2']).apply(\n",
    "        lambda x: (x['duration'].min() >= pd.Timedelta(days=7)) and \n",
    "                  (x['start_timestamp'].min().time() == pd.Timestamp('00:00:00').time()) and \n",
    "                  (x['end_timestamp'].max().time() == pd.Timestamp('23:59:59').time()))\n",
    "\n",
    "    return completeness_check\n",
    "\n",
    "dataset_2 = pd.read_csv('dataset-2.csv')\n",
    "completeness_series = check_timestamp_completeness(dataset_2)\n",
    "print(completeness_series)\n"
   ]
  }
 ],
 "metadata": {
  "kernelspec": {
   "display_name": "Python 3 (ipykernel)",
   "language": "python",
   "name": "python3"
  },
  "language_info": {
   "codemirror_mode": {
    "name": "ipython",
    "version": 3
   },
   "file_extension": ".py",
   "mimetype": "text/x-python",
   "name": "python",
   "nbconvert_exporter": "python",
   "pygments_lexer": "ipython3",
   "version": "3.9.13"
  }
 },
 "nbformat": 4,
 "nbformat_minor": 5
}
